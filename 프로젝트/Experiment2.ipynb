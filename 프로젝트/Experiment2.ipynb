{
 "cells": [
  {
   "cell_type": "markdown",
   "id": "abeb59e7",
   "metadata": {},
   "source": [
    "### Experiment2\n",
    "\n",
    "PID Gain 값\n",
    "- Ki=0.5\n",
    "- Kp=15\n",
    "- Kd=0.5\n",
    "\n",
    "가속 시간\n",
    "- Ta_2 = 0.25s"
   ]
  },
  {
   "cell_type": "code",
   "execution_count": 1,
   "id": "1c3322c9",
   "metadata": {},
   "outputs": [],
   "source": [
    "import pandas as pd\n",
    "import matplotlib.pyplot as plt"
   ]
  },
  {
   "cell_type": "code",
   "execution_count": 2,
   "id": "8767bc9b",
   "metadata": {},
   "outputs": [],
   "source": [
    "data2 = pd.read_csv(\"Experiment2.csv\")"
   ]
  },
  {
   "cell_type": "code",
   "execution_count": 3,
   "id": "4e2cc1eb",
   "metadata": {},
   "outputs": [
    {
     "data": {
      "text/html": [
       "<div>\n",
       "<style scoped>\n",
       "    .dataframe tbody tr th:only-of-type {\n",
       "        vertical-align: middle;\n",
       "    }\n",
       "\n",
       "    .dataframe tbody tr th {\n",
       "        vertical-align: top;\n",
       "    }\n",
       "\n",
       "    .dataframe thead th {\n",
       "        text-align: right;\n",
       "    }\n",
       "</style>\n",
       "<table border=\"1\" class=\"dataframe\">\n",
       "  <thead>\n",
       "    <tr style=\"text-align: right;\">\n",
       "      <th></th>\n",
       "      <th>TIME</th>\n",
       "      <th>Target Y</th>\n",
       "      <th>Actual Y</th>\n",
       "      <th>Following Error</th>\n",
       "    </tr>\n",
       "  </thead>\n",
       "  <tbody>\n",
       "    <tr>\n",
       "      <th>0</th>\n",
       "      <td>0.0000</td>\n",
       "      <td>0.0</td>\n",
       "      <td>0.0</td>\n",
       "      <td>0.0</td>\n",
       "    </tr>\n",
       "    <tr>\n",
       "      <th>1</th>\n",
       "      <td>0.0001</td>\n",
       "      <td>0.0</td>\n",
       "      <td>0.0</td>\n",
       "      <td>0.0</td>\n",
       "    </tr>\n",
       "    <tr>\n",
       "      <th>2</th>\n",
       "      <td>0.0002</td>\n",
       "      <td>0.0</td>\n",
       "      <td>0.0</td>\n",
       "      <td>0.0</td>\n",
       "    </tr>\n",
       "    <tr>\n",
       "      <th>3</th>\n",
       "      <td>0.0003</td>\n",
       "      <td>0.0</td>\n",
       "      <td>0.0</td>\n",
       "      <td>0.0</td>\n",
       "    </tr>\n",
       "    <tr>\n",
       "      <th>4</th>\n",
       "      <td>0.0004</td>\n",
       "      <td>0.0</td>\n",
       "      <td>0.0</td>\n",
       "      <td>0.0</td>\n",
       "    </tr>\n",
       "    <tr>\n",
       "      <th>...</th>\n",
       "      <td>...</td>\n",
       "      <td>...</td>\n",
       "      <td>...</td>\n",
       "      <td>...</td>\n",
       "    </tr>\n",
       "    <tr>\n",
       "      <th>221056</th>\n",
       "      <td>NaN</td>\n",
       "      <td>NaN</td>\n",
       "      <td>NaN</td>\n",
       "      <td>NaN</td>\n",
       "    </tr>\n",
       "    <tr>\n",
       "      <th>221057</th>\n",
       "      <td>NaN</td>\n",
       "      <td>NaN</td>\n",
       "      <td>NaN</td>\n",
       "      <td>NaN</td>\n",
       "    </tr>\n",
       "    <tr>\n",
       "      <th>221058</th>\n",
       "      <td>NaN</td>\n",
       "      <td>NaN</td>\n",
       "      <td>NaN</td>\n",
       "      <td>NaN</td>\n",
       "    </tr>\n",
       "    <tr>\n",
       "      <th>221059</th>\n",
       "      <td>NaN</td>\n",
       "      <td>NaN</td>\n",
       "      <td>NaN</td>\n",
       "      <td>NaN</td>\n",
       "    </tr>\n",
       "    <tr>\n",
       "      <th>221060</th>\n",
       "      <td>NaN</td>\n",
       "      <td>NaN</td>\n",
       "      <td>NaN</td>\n",
       "      <td>NaN</td>\n",
       "    </tr>\n",
       "  </tbody>\n",
       "</table>\n",
       "<p>221061 rows × 4 columns</p>\n",
       "</div>"
      ],
      "text/plain": [
       "          TIME  Target Y  Actual Y  Following Error\n",
       "0       0.0000       0.0       0.0              0.0\n",
       "1       0.0001       0.0       0.0              0.0\n",
       "2       0.0002       0.0       0.0              0.0\n",
       "3       0.0003       0.0       0.0              0.0\n",
       "4       0.0004       0.0       0.0              0.0\n",
       "...        ...       ...       ...              ...\n",
       "221056     NaN       NaN       NaN              NaN\n",
       "221057     NaN       NaN       NaN              NaN\n",
       "221058     NaN       NaN       NaN              NaN\n",
       "221059     NaN       NaN       NaN              NaN\n",
       "221060     NaN       NaN       NaN              NaN\n",
       "\n",
       "[221061 rows x 4 columns]"
      ]
     },
     "execution_count": 3,
     "metadata": {},
     "output_type": "execute_result"
    }
   ],
   "source": [
    "data2"
   ]
  },
  {
   "cell_type": "code",
   "execution_count": 5,
   "id": "7545e1a7",
   "metadata": {},
   "outputs": [
    {
     "data": {
      "image/png": "[encoded data removed]",
      "text/plain": [
       "<Figure size 640x480 with 1 Axes>"
      ]
     },
     "metadata": {},
     "output_type": "display_data"
    }
   ],
   "source": [
    "x = data2[\"TIME\"]\n",
    "y1 = data2[\"Target Y\"]\n",
    "\n",
    "plt.plot(x, y1, 'b', label = \"Target Y\")\n",
    "plt.xlabel(\"TIME(s)\")\n",
    "plt.ylabel(\"Target Y(mm)\")\n",
    "plt.legend(loc=\"best\")\n",
    "plt.show()"
   ]
  },
  {
   "cell_type": "code",
   "execution_count": 6,
   "id": "463a016a",
   "metadata": {},
   "outputs": [
    {
     "data": {
      "image/png": "[encoded data removed]",
      "text/plain": [
       "<Figure size 640x480 with 1 Axes>"
      ]
     },
     "metadata": {},
     "output_type": "display_data"
    }
   ],
   "source": [
    "y2 = data2[\"Actual Y\"]\n",
    "plt.plot(x, y2, 'g', label = \"Actual Y\")\n",
    "plt.xlabel(\"TIME(s)\")\n",
    "plt.ylabel(\"Actual Y(mm)\")\n",
    "plt.legend(loc=\"best\")\n",
    "plt.show()"
   ]
  },
  {
   "cell_type": "code",
   "execution_count": 8,
   "id": "4fa78f83",
   "metadata": {},
   "outputs": [
    {
     "data": {
      "image/png": "[encoded data removed]",
      "text/plain": [
       "<Figure size 640x480 with 1 Axes>"
      ]
     },
     "metadata": {},
     "output_type": "display_data"
    }
   ],
   "source": [
    "plt.plot(x, y1, 'b', label = \"Target Y\")\n",
    "plt.plot(x, y2, 'g', label = \"Actual Y\")\n",
    "plt.xlabel(\"TIME(s)\")\n",
    "plt.ylabel(\"Target & Actual Y(mm)\")\n",
    "plt.legend(loc=\"best\")\n",
    "plt.show()"
   ]
  },
  {
   "cell_type": "code",
   "execution_count": 9,
   "id": "b89a49f1",
   "metadata": {},
   "outputs": [
    {
     "data": {
      "image/png": "[encoded data removed]",
      "text/plain": [
       "<Figure size 640x480 with 1 Axes>"
      ]
     },
     "metadata": {},
     "output_type": "display_data"
    }
   ],
   "source": [
    "y3 = data2[\"Following Error\"]\n",
    "plt.plot(x, y3, 'r', label = \"Following Error\")\n",
    "plt.xlabel(\"TIME(s)\")\n",
    "plt.ylabel(\"Fol err(mm)\")\n",
    "plt.legend(loc=\"best\")\n",
    "plt.show()"
   ]
  },
  {
   "cell_type": "markdown",
   "id": "103b1756",
   "metadata": {},
   "source": [
    "# 분석 "
   ]
  },
  {
   "cell_type": "code",
   "execution_count": 10,
   "id": "8d51a7d5",
   "metadata": {},
   "outputs": [
    {
     "name": "stdout",
     "output_type": "stream",
     "text": [
      "목표 변위의 최댓값:  95.833334 mm\n",
      "실제 변위의 최댓값:  95.9881 mm\n"
     ]
    }
   ],
   "source": [
    "print(\"목표 변위의 최댓값: \", max(y1),\"mm\")\n",
    "print(\"실제 변위의 최댓값: \", max(y2), \"mm\")"
   ]
  },
  {
   "cell_type": "markdown",
   "id": "c95f9a22",
   "metadata": {},
   "source": [
    "### 목표 변위가 0이고 시간이 15초 보다 작을 때"
   ]
  },
  {
   "cell_type": "code",
   "execution_count": 11,
   "id": "d1e795f5",
   "metadata": {},
   "outputs": [
    {
     "data": {
      "text/html": [
       "<div>\n",
       "<style scoped>\n",
       "    .dataframe tbody tr th:only-of-type {\n",
       "        vertical-align: middle;\n",
       "    }\n",
       "\n",
       "    .dataframe tbody tr th {\n",
       "        vertical-align: top;\n",
       "    }\n",
       "\n",
       "    .dataframe thead th {\n",
       "        text-align: right;\n",
       "    }\n",
       "</style>\n",
       "<table border=\"1\" class=\"dataframe\">\n",
       "  <thead>\n",
       "    <tr style=\"text-align: right;\">\n",
       "      <th></th>\n",
       "      <th>TIME</th>\n",
       "      <th>Target Y</th>\n",
       "      <th>Actual Y</th>\n",
       "      <th>Following Error</th>\n",
       "    </tr>\n",
       "  </thead>\n",
       "  <tbody>\n",
       "    <tr>\n",
       "      <th>0</th>\n",
       "      <td>0.000000</td>\n",
       "      <td>0.0</td>\n",
       "      <td>0.0</td>\n",
       "      <td>0.0</td>\n",
       "    </tr>\n",
       "    <tr>\n",
       "      <th>1</th>\n",
       "      <td>0.000100</td>\n",
       "      <td>0.0</td>\n",
       "      <td>0.0</td>\n",
       "      <td>0.0</td>\n",
       "    </tr>\n",
       "    <tr>\n",
       "      <th>2</th>\n",
       "      <td>0.000200</td>\n",
       "      <td>0.0</td>\n",
       "      <td>0.0</td>\n",
       "      <td>0.0</td>\n",
       "    </tr>\n",
       "    <tr>\n",
       "      <th>3</th>\n",
       "      <td>0.000300</td>\n",
       "      <td>0.0</td>\n",
       "      <td>0.0</td>\n",
       "      <td>0.0</td>\n",
       "    </tr>\n",
       "    <tr>\n",
       "      <th>4</th>\n",
       "      <td>0.000400</td>\n",
       "      <td>0.0</td>\n",
       "      <td>0.0</td>\n",
       "      <td>0.0</td>\n",
       "    </tr>\n",
       "    <tr>\n",
       "      <th>...</th>\n",
       "      <td>...</td>\n",
       "      <td>...</td>\n",
       "      <td>...</td>\n",
       "      <td>...</td>\n",
       "    </tr>\n",
       "    <tr>\n",
       "      <th>125879</th>\n",
       "      <td>12.588128</td>\n",
       "      <td>0.0</td>\n",
       "      <td>0.0</td>\n",
       "      <td>0.0</td>\n",
       "    </tr>\n",
       "    <tr>\n",
       "      <th>125880</th>\n",
       "      <td>12.588228</td>\n",
       "      <td>0.0</td>\n",
       "      <td>0.0</td>\n",
       "      <td>0.0</td>\n",
       "    </tr>\n",
       "    <tr>\n",
       "      <th>125881</th>\n",
       "      <td>12.588328</td>\n",
       "      <td>0.0</td>\n",
       "      <td>0.0</td>\n",
       "      <td>0.0</td>\n",
       "    </tr>\n",
       "    <tr>\n",
       "      <th>125882</th>\n",
       "      <td>12.588428</td>\n",
       "      <td>0.0</td>\n",
       "      <td>0.0</td>\n",
       "      <td>0.0</td>\n",
       "    </tr>\n",
       "    <tr>\n",
       "      <th>125883</th>\n",
       "      <td>12.588529</td>\n",
       "      <td>0.0</td>\n",
       "      <td>0.0</td>\n",
       "      <td>0.0</td>\n",
       "    </tr>\n",
       "  </tbody>\n",
       "</table>\n",
       "<p>125884 rows × 4 columns</p>\n",
       "</div>"
      ],
      "text/plain": [
       "             TIME  Target Y  Actual Y  Following Error\n",
       "0        0.000000       0.0       0.0              0.0\n",
       "1        0.000100       0.0       0.0              0.0\n",
       "2        0.000200       0.0       0.0              0.0\n",
       "3        0.000300       0.0       0.0              0.0\n",
       "4        0.000400       0.0       0.0              0.0\n",
       "...           ...       ...       ...              ...\n",
       "125879  12.588128       0.0       0.0              0.0\n",
       "125880  12.588228       0.0       0.0              0.0\n",
       "125881  12.588328       0.0       0.0              0.0\n",
       "125882  12.588428       0.0       0.0              0.0\n",
       "125883  12.588529       0.0       0.0              0.0\n",
       "\n",
       "[125884 rows x 4 columns]"
      ]
     },
     "execution_count": 11,
     "metadata": {},
     "output_type": "execute_result"
    }
   ],
   "source": [
    "data2[(data2[\"Target Y\"]==0) & (data2[\"TIME\"]<15)]"
   ]
  },
  {
   "cell_type": "markdown",
   "id": "cff3b51f",
   "metadata": {},
   "source": [
    "### => 12.5885초 이후에 이송 시작\n",
    "\n",
    "---"
   ]
  },
  {
   "cell_type": "markdown",
   "id": "f6e27d59",
   "metadata": {},
   "source": [
    "### 목표 변위가 대략 0이고 시간이 15초 보다 클 때"
   ]
  },
  {
   "cell_type": "code",
   "execution_count": 12,
   "id": "dbd2bc5f",
   "metadata": {},
   "outputs": [
    {
     "data": {
      "text/html": [
       "<div>\n",
       "<style scoped>\n",
       "    .dataframe tbody tr th:only-of-type {\n",
       "        vertical-align: middle;\n",
       "    }\n",
       "\n",
       "    .dataframe tbody tr th {\n",
       "        vertical-align: top;\n",
       "    }\n",
       "\n",
       "    .dataframe thead th {\n",
       "        text-align: right;\n",
       "    }\n",
       "</style>\n",
       "<table border=\"1\" class=\"dataframe\">\n",
       "  <thead>\n",
       "    <tr style=\"text-align: right;\">\n",
       "      <th></th>\n",
       "      <th>TIME</th>\n",
       "      <th>Target Y</th>\n",
       "      <th>Actual Y</th>\n",
       "      <th>Following Error</th>\n",
       "    </tr>\n",
       "  </thead>\n",
       "  <tbody>\n",
       "    <tr>\n",
       "      <th>149998</th>\n",
       "      <td>15.000032</td>\n",
       "      <td>71.345000</td>\n",
       "      <td>71.5144</td>\n",
       "      <td>-0.169400</td>\n",
       "    </tr>\n",
       "    <tr>\n",
       "      <th>149999</th>\n",
       "      <td>15.000132</td>\n",
       "      <td>71.335000</td>\n",
       "      <td>71.5044</td>\n",
       "      <td>-0.169400</td>\n",
       "    </tr>\n",
       "    <tr>\n",
       "      <th>150000</th>\n",
       "      <td>15.000232</td>\n",
       "      <td>71.325000</td>\n",
       "      <td>71.4942</td>\n",
       "      <td>-0.169200</td>\n",
       "    </tr>\n",
       "    <tr>\n",
       "      <th>150001</th>\n",
       "      <td>15.000332</td>\n",
       "      <td>71.315000</td>\n",
       "      <td>71.4839</td>\n",
       "      <td>-0.168900</td>\n",
       "    </tr>\n",
       "    <tr>\n",
       "      <th>150002</th>\n",
       "      <td>15.000432</td>\n",
       "      <td>71.305000</td>\n",
       "      <td>71.4735</td>\n",
       "      <td>-0.168500</td>\n",
       "    </tr>\n",
       "    <tr>\n",
       "      <th>...</th>\n",
       "      <td>...</td>\n",
       "      <td>...</td>\n",
       "      <td>...</td>\n",
       "      <td>...</td>\n",
       "    </tr>\n",
       "    <tr>\n",
       "      <th>158377</th>\n",
       "      <td>15.837988</td>\n",
       "      <td>0.000060</td>\n",
       "      <td>0.0382</td>\n",
       "      <td>-0.038140</td>\n",
       "    </tr>\n",
       "    <tr>\n",
       "      <th>158378</th>\n",
       "      <td>15.838088</td>\n",
       "      <td>0.000040</td>\n",
       "      <td>0.0377</td>\n",
       "      <td>-0.037660</td>\n",
       "    </tr>\n",
       "    <tr>\n",
       "      <th>158379</th>\n",
       "      <td>15.838188</td>\n",
       "      <td>0.000024</td>\n",
       "      <td>0.0372</td>\n",
       "      <td>-0.037176</td>\n",
       "    </tr>\n",
       "    <tr>\n",
       "      <th>158380</th>\n",
       "      <td>15.838289</td>\n",
       "      <td>0.000012</td>\n",
       "      <td>0.0367</td>\n",
       "      <td>-0.036688</td>\n",
       "    </tr>\n",
       "    <tr>\n",
       "      <th>158381</th>\n",
       "      <td>15.838388</td>\n",
       "      <td>0.000004</td>\n",
       "      <td>0.0362</td>\n",
       "      <td>-0.036196</td>\n",
       "    </tr>\n",
       "  </tbody>\n",
       "</table>\n",
       "<p>8384 rows × 4 columns</p>\n",
       "</div>"
      ],
      "text/plain": [
       "             TIME   Target Y  Actual Y  Following Error\n",
       "149998  15.000032  71.345000   71.5144        -0.169400\n",
       "149999  15.000132  71.335000   71.5044        -0.169400\n",
       "150000  15.000232  71.325000   71.4942        -0.169200\n",
       "150001  15.000332  71.315000   71.4839        -0.168900\n",
       "150002  15.000432  71.305000   71.4735        -0.168500\n",
       "...           ...        ...       ...              ...\n",
       "158377  15.837988   0.000060    0.0382        -0.038140\n",
       "158378  15.838088   0.000040    0.0377        -0.037660\n",
       "158379  15.838188   0.000024    0.0372        -0.037176\n",
       "158380  15.838289   0.000012    0.0367        -0.036688\n",
       "158381  15.838388   0.000004    0.0362        -0.036196\n",
       "\n",
       "[8384 rows x 4 columns]"
      ]
     },
     "execution_count": 12,
     "metadata": {},
     "output_type": "execute_result"
    }
   ],
   "source": [
    "data2[(data2[\"Target Y\"]>=0) & (data2[\"TIME\"]>15)]"
   ]
  },
  {
   "cell_type": "markdown",
   "id": "4e9e09fd",
   "metadata": {},
   "source": [
    "### => 약 15.8384s 에 목표변위가 0이라고 할 수 있다.\n",
    "\n",
    "---"
   ]
  },
  {
   "cell_type": "markdown",
   "id": "f5cc1a36",
   "metadata": {},
   "source": [
    "### 15.8384초 이후에, 그러니까 모터가 원위치에 도착한 후에도  모터가 진동한다. \n",
    "### 그래서 추종오차가 지속적으로 변화하다가 수렴한다. "
   ]
  },
  {
   "cell_type": "markdown",
   "id": "00bda0f0",
   "metadata": {},
   "source": [
    "### 수렴한 추종 오차 값(Steady state error)는 대략 -0.01mm이다."
   ]
  },
  {
   "cell_type": "code",
   "execution_count": null,
   "id": "8a5ac3e9",
   "metadata": {},
   "outputs": [],
   "source": []
  }
 ],
 "metadata": {
  "kernelspec": {
   "display_name": "Python 3 (ipykernel)",
   "language": "python",
   "name": "python3"
  },
  "language_info": {
   "codemirror_mode": {
    "name": "ipython",
    "version": 3
   },
   "file_extension": ".py",
   "mimetype": "text/x-python",
   "name": "python",
   "nbconvert_exporter": "python",
   "pygments_lexer": "ipython3",
   "version": "3.9.13"
  }
 },
 "nbformat": 4,
 "nbformat_minor": 5
}
